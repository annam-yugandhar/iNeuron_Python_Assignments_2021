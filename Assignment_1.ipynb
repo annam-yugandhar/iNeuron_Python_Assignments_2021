{
 "cells": [
  {
   "cell_type": "raw",
   "id": "f38718bd",
   "metadata": {},
   "source": [
    "1. In the below elements which of them are values or an expression? eg:- values can be integer or string and expressions will be mathematical operators.\n",
    "*\n",
    "'hello'\n",
    "-87.8\n",
    "- \n",
    "/ \n",
    "+\t\n",
    "6 \n",
    "\n",
    "answer:-\n",
    "\n",
    "values are 'hello',-87.8,6\n",
    "\n",
    "expressions are *,-,/,+,\n",
    "\n"
   ]
  },
  {
   "cell_type": "raw",
   "id": "e87b0e89",
   "metadata": {},
   "source": [
    "2. What is the difference between string and variable?\n",
    "\n",
    "Answer:-\n",
    "\n",
    "A Variable is a store of information and it is used as temporary memory location, and a String is a type of information you would store in a Variable. A String is usually words or may be letters also, enclosed with \"\"\n",
    "\n",
    "Eg\n",
    "String x =\"Welcome to iNeuron\"\n",
    "here X is the Variable, and we declared it as a String, use the single = to assign the text to it"
   ]
  },
  {
   "cell_type": "raw",
   "id": "a38093c3",
   "metadata": {},
   "source": [
    "3. Describe three different data types.\n",
    "\n",
    "Answer:-\n",
    "\n",
    "acually in python the data types are classified in two catogery i.e \n",
    "1) immutable data_types 2)mutable data_types\n",
    "\n",
    "here we discuss three data types that are widly used in python i.e string,lists,dictionary\n",
    "\n",
    "string:-\n",
    "    it is a group of alphabits,words,letters with in a single or double quotes.it is immutable data types but they are having index numbers starting from 0 to till the number and -ve indexing is also is possible with -1\n",
    "    \n",
    "list:- \n",
    "    it is a popular data type used in python it stores the any kind of information that are exist in python like string,list,tuples,int,float...etc with in a square brackets and seperated by comma ,it is mutable data type that means we modify the elements that are presents in the list and indexing is also applicable\n",
    "    \n",
    "dictionary:-\n",
    "    it is also a popular kind of a data type in python it stores the information of any data types with key value pair sequence,this key and values seperated by colon(:) and key-value pair seperated by comma with in a curly braces {}. this are muttable and indexable data type."
   ]
  },
  {
   "cell_type": "raw",
   "id": "7c654cf4",
   "metadata": {},
   "source": [
    "4. What is an expression made up of? What do all expressions do?\n",
    "\n",
    "Answer:-\n",
    "An expression is a combination of values, variables, operators, and calls to functions. Expressions need to be evaluated. If you ask Python to print an expression, the interpreter evaluates the expression and displays the result\n"
   ]
  },
  {
   "cell_type": "raw",
   "id": "a14a099e",
   "metadata": {},
   "source": [
    "5. This assignment statements, like spam = 10. What is the difference between an expression and a statement?\n",
    "\n",
    "Answer:-\n",
    "\n",
    "An expression evaluates to a value. A statement does something. Statements represent an action or command e.g print statements, assignment statements. Expression is a combination of variables, operations and values that yields a result value.\n",
    "\n",
    "if,elif,else,for,while,print,return...etc. this are all statement functions\n",
    "\n",
    "here spam = 10 is expression"
   ]
  },
  {
   "cell_type": "raw",
   "id": "d9431c77",
   "metadata": {},
   "source": [
    "6. After running the following code, what does the variable bacon contain?\n",
    "bacon = 22\n",
    "bacon + 1\n",
    "it contains value 22 of interger value see belowe"
   ]
  },
  {
   "cell_type": "code",
   "execution_count": 4,
   "id": "792136b7",
   "metadata": {},
   "outputs": [
    {
     "data": {
      "text/plain": [
       "23"
      ]
     },
     "execution_count": 4,
     "metadata": {},
     "output_type": "execute_result"
    }
   ],
   "source": [
    "bacon = 22\n",
    "bacon + 1"
   ]
  },
  {
   "cell_type": "raw",
   "id": "c58f4ced",
   "metadata": {},
   "source": [
    "it contains interger of value 23 it concatnate int and int"
   ]
  },
  {
   "cell_type": "raw",
   "id": "1be3a022",
   "metadata": {},
   "source": [
    "7. What should the values of the following two terms be?\n",
    "'spam' + 'spamspam'\n",
    "'spam' * 3\n",
    "\n",
    "Answers:-\n",
    "\n",
    "'spam' + 'spamspam' = 'spamspamspam' it is a string concatnation\n",
    "'spam' * 3 = 'spamspamspam' it is string multiplication"
   ]
  },
  {
   "cell_type": "code",
   "execution_count": 8,
   "id": "b2d705a4",
   "metadata": {},
   "outputs": [
    {
     "data": {
      "text/plain": [
       "'spamspamspam'"
      ]
     },
     "execution_count": 8,
     "metadata": {},
     "output_type": "execute_result"
    }
   ],
   "source": [
    "'spam' * 3"
   ]
  },
  {
   "cell_type": "raw",
   "id": "fe4225d2",
   "metadata": {},
   "source": [
    "8. Why is eggs a valid variable name while 100 is invalid?\n",
    "\n",
    "Answer:- \n",
    "\n",
    "eggs is a valid variable because it start from alphabit of lower case\n",
    "but 100 is not a valid variable because the python variable can not take letters as variable at staring of variable and built in functions are also not taken as variable names\n"
   ]
  },
  {
   "cell_type": "raw",
   "id": "14d8c11b",
   "metadata": {},
   "source": [
    "9. What three functions can be used to get the integer, floating-point number, or string version of a value?\n",
    "\n",
    "Answers:-\n",
    "    int() - it is a built in python function to convert any decimal value into interger\n",
    "    float() - it is a built in python function to convert any interger into floating point value i.e decimal number\n",
    "    str() - it is built in function of python it converts any data type into string with in quotes"
   ]
  },
  {
   "cell_type": "raw",
   "id": "d10085af",
   "metadata": {},
   "source": [
    "10. Why does this expression cause an error? How can you fix it?\n",
    "'I have eaten ' + 99 + ' burritos.'\n",
    "\n",
    "Answer:-\n",
    "    here we can't add string and interger data types or for cancatination in python all data types must be same so here we get typeerror\n",
    "    \n",
    "    so we fix by using str function like this see below"
   ]
  },
  {
   "cell_type": "code",
   "execution_count": 9,
   "id": "800ee1ff",
   "metadata": {},
   "outputs": [
    {
     "ename": "TypeError",
     "evalue": "can only concatenate str (not \"int\") to str",
     "output_type": "error",
     "traceback": [
      "\u001b[1;31m---------------------------------------------------------------------------\u001b[0m",
      "\u001b[1;31mTypeError\u001b[0m                                 Traceback (most recent call last)",
      "\u001b[1;32m<ipython-input-9-1fad7467ed84>\u001b[0m in \u001b[0;36m<module>\u001b[1;34m\u001b[0m\n\u001b[1;32m----> 1\u001b[1;33m \u001b[1;34m'I have eaten '\u001b[0m \u001b[1;33m+\u001b[0m \u001b[1;36m99\u001b[0m \u001b[1;33m+\u001b[0m \u001b[1;34m' burritos'\u001b[0m\u001b[1;33m\u001b[0m\u001b[1;33m\u001b[0m\u001b[0m\n\u001b[0m",
      "\u001b[1;31mTypeError\u001b[0m: can only concatenate str (not \"int\") to str"
     ]
    }
   ],
   "source": [
    "'I have eaten ' + 99 + ' burritos'"
   ]
  },
  {
   "cell_type": "code",
   "execution_count": 3,
   "id": "830b06a2",
   "metadata": {},
   "outputs": [
    {
     "data": {
      "text/plain": [
       "'I have eaten 99 burritos'"
      ]
     },
     "execution_count": 3,
     "metadata": {},
     "output_type": "execute_result"
    }
   ],
   "source": [
    "'I have eaten ' + str(99) + ' burritos'"
   ]
  },
  {
   "cell_type": "code",
   "execution_count": null,
   "id": "d091c49a",
   "metadata": {},
   "outputs": [],
   "source": []
  }
 ],
 "metadata": {
  "kernelspec": {
   "display_name": "Python 3",
   "language": "python",
   "name": "python3"
  },
  "language_info": {
   "codemirror_mode": {
    "name": "ipython",
    "version": 3
   },
   "file_extension": ".py",
   "mimetype": "text/x-python",
   "name": "python",
   "nbconvert_exporter": "python",
   "pygments_lexer": "ipython3",
   "version": "3.8.8"
  }
 },
 "nbformat": 4,
 "nbformat_minor": 5
}
