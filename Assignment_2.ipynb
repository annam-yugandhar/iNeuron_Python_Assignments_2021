{
 "cells": [
  {
   "cell_type": "markdown",
   "id": "1e9c81b3",
   "metadata": {},
   "source": [
    "**1)What are the two values of the Boolean data type? How do you write them?**"
   ]
  },
  {
   "cell_type": "markdown",
   "id": "708a5c3f",
   "metadata": {},
   "source": [
    "Answer:-\n",
    "    \n",
    "Boolean data types have two values they are True,False in this boolean expressions uses relational and logical operators"
   ]
  },
  {
   "cell_type": "markdown",
   "id": "2aeb48a7",
   "metadata": {},
   "source": [
    "**2. What are the three different types of Boolean operators?**"
   ]
  },
  {
   "cell_type": "markdown",
   "id": "54340fc2",
   "metadata": {},
   "source": [
    "Answer:-\n",
    "    \n",
    "AND,OR,NOT these three are logical boolean operators that are used in to make boolean expressions"
   ]
  },
  {
   "cell_type": "markdown",
   "id": "5b581631",
   "metadata": {},
   "source": [
    "**3).Make a list of each Boolean operator's truth tables (i.e. every possible combination of Boolean values for the operator and what it evaluate ).**"
   ]
  },
  {
   "cell_type": "markdown",
   "id": "200c8735",
   "metadata": {},
   "source": [
    "**AND_Operator**"
   ]
  },
  {
   "cell_type": "code",
   "execution_count": 8,
   "id": "ff0164fc",
   "metadata": {},
   "outputs": [
    {
     "name": "stdout",
     "output_type": "stream",
     "text": [
      "False\n",
      "False\n",
      "False\n",
      "True\n",
      "0\n",
      "0\n",
      "0\n",
      "1\n"
     ]
    }
   ],
   "source": [
    "print(False and False)\n",
    "print(False and True)\n",
    "print(True and False)\n",
    "print(True and True)\n",
    "\n",
    "#(or)\n",
    "\n",
    "print(0 & 0)\n",
    "print(0 & 1)\n",
    "print(1 & 0)\n",
    "print(1 & 1)"
   ]
  },
  {
   "cell_type": "markdown",
   "id": "ec5cf50d",
   "metadata": {},
   "source": [
    "**OR_Operator**"
   ]
  },
  {
   "cell_type": "code",
   "execution_count": 9,
   "id": "a8d4d811",
   "metadata": {},
   "outputs": [
    {
     "name": "stdout",
     "output_type": "stream",
     "text": [
      "False\n",
      "True\n",
      "True\n",
      "True\n",
      "0\n",
      "1\n",
      "1\n",
      "1\n"
     ]
    }
   ],
   "source": [
    "print(False or False)\n",
    "print(False or True)\n",
    "print(True or False)\n",
    "print(True or True)\n",
    "\n",
    "# (or)\n",
    "\n",
    "print(0 | 0)\n",
    "print(0 | 1)\n",
    "print(1 | 0)\n",
    "print(1 | 1)"
   ]
  },
  {
   "cell_type": "markdown",
   "id": "5ff989bc",
   "metadata": {},
   "source": [
    "**NOT_Operator**"
   ]
  },
  {
   "cell_type": "code",
   "execution_count": 14,
   "id": "db197e2a",
   "metadata": {},
   "outputs": [
    {
     "name": "stdout",
     "output_type": "stream",
     "text": [
      "False\n",
      "True\n",
      "False\n",
      "True\n"
     ]
    }
   ],
   "source": [
    "print(not True)\n",
    "print(not False)\n",
    "\n",
    "# (or)\n",
    "\n",
    "print(not 1)\n",
    "print(not 0)"
   ]
  },
  {
   "cell_type": "markdown",
   "id": "4d7de1f2",
   "metadata": {},
   "source": [
    "**4).What are the values of the following expressions?**"
   ]
  },
  {
   "cell_type": "code",
   "execution_count": 15,
   "id": "bb442197",
   "metadata": {},
   "outputs": [
    {
     "data": {
      "text/plain": [
       "False"
      ]
     },
     "execution_count": 15,
     "metadata": {},
     "output_type": "execute_result"
    }
   ],
   "source": [
    "(5 > 4) and (3 == 5)"
   ]
  },
  {
   "cell_type": "code",
   "execution_count": 16,
   "id": "4f393317",
   "metadata": {},
   "outputs": [
    {
     "data": {
      "text/plain": [
       "False"
      ]
     },
     "execution_count": 16,
     "metadata": {},
     "output_type": "execute_result"
    }
   ],
   "source": [
    "not (5 > 4)"
   ]
  },
  {
   "cell_type": "code",
   "execution_count": 17,
   "id": "27a19bb9",
   "metadata": {},
   "outputs": [
    {
     "data": {
      "text/plain": [
       "True"
      ]
     },
     "execution_count": 17,
     "metadata": {},
     "output_type": "execute_result"
    }
   ],
   "source": [
    "(5 > 4) or (3 == 5)"
   ]
  },
  {
   "cell_type": "code",
   "execution_count": 18,
   "id": "ff7191bc",
   "metadata": {},
   "outputs": [
    {
     "data": {
      "text/plain": [
       "False"
      ]
     },
     "execution_count": 18,
     "metadata": {},
     "output_type": "execute_result"
    }
   ],
   "source": [
    "not ((5 > 4) or (3 == 5))"
   ]
  },
  {
   "cell_type": "code",
   "execution_count": 19,
   "id": "cb9ff9a7",
   "metadata": {},
   "outputs": [
    {
     "data": {
      "text/plain": [
       "False"
      ]
     },
     "execution_count": 19,
     "metadata": {},
     "output_type": "execute_result"
    }
   ],
   "source": [
    "(True and True) and (True == False)"
   ]
  },
  {
   "cell_type": "code",
   "execution_count": 20,
   "id": "3cfc8428",
   "metadata": {},
   "outputs": [
    {
     "data": {
      "text/plain": [
       "True"
      ]
     },
     "execution_count": 20,
     "metadata": {},
     "output_type": "execute_result"
    }
   ],
   "source": [
    "(not False) or (not True)"
   ]
  },
  {
   "cell_type": "markdown",
   "id": "7571786b",
   "metadata": {},
   "source": [
    "**5).What are the six comparison operators?**"
   ]
  },
  {
   "cell_type": "markdown",
   "id": "0bec8d2c",
   "metadata": {},
   "source": [
    "    <    less than operator\n",
    "    >    greater than operator\n",
    "    ==   equal operator\n",
    "    !=   not equal operator\n",
    "    <=   less than or equal to operator\n",
    "    >=   greater than or equal to operator"
   ]
  },
  {
   "cell_type": "markdown",
   "id": "80be0333",
   "metadata": {},
   "source": [
    "**6).How do you tell the difference between the equal to and assignment operators?Describe a condition and when you would use one.**"
   ]
  },
  {
   "cell_type": "markdown",
   "id": "e851e0f7",
   "metadata": {},
   "source": [
    "**Assignment Operator:-**"
   ]
  },
  {
   "cell_type": "markdown",
   "id": "43dd231d",
   "metadata": {},
   "source": [
    "assignment operator (=) is used for to assign any value like it may be string,int,float,list,tuple,set,dict.....etc into the name called variable....\n",
    "\n",
    "for example:-\n",
    "\n",
    "name = \"string\"\n",
    "\n",
    "in the above statement name is a variable it takes value of string data type through assignment operator"
   ]
  },
  {
   "cell_type": "markdown",
   "id": "05b273c2",
   "metadata": {},
   "source": [
    "**Equal to operator:-**"
   ]
  },
  {
   "cell_type": "markdown",
   "id": "44f4a88b",
   "metadata": {},
   "source": [
    "Equal to operator (==) is used for checking the conditional test that are used in for loops and while loops and also in if-elif-else code block\n",
    "\n",
    "the equal to operator always gives the results in boolean values that is in True (or) False\n",
    "\n",
    "for example:-"
   ]
  },
  {
   "cell_type": "code",
   "execution_count": 22,
   "id": "f5e02b36",
   "metadata": {},
   "outputs": [
    {
     "name": "stdout",
     "output_type": "stream",
     "text": [
      "True\n"
     ]
    }
   ],
   "source": [
    "name = \"string\"\n",
    "# = is a assignment operator is used to store the string value in name variable\n",
    "\n",
    "print(name == 'string')\n",
    "# here we check the statement of conditional test using equal to operator"
   ]
  },
  {
   "cell_type": "markdown",
   "id": "25951448",
   "metadata": {},
   "source": [
    "7. Identify the three blocks in this code:\n",
    "spam = 0\n",
    "if spam == 10:\n",
    "print('eggs')\n",
    "if spam > 5:\n",
    "print('bacon')\n",
    "else:\n",
    "print('ham')\n",
    "print('spam')\n",
    "print('spam')\n"
   ]
  },
  {
   "cell_type": "code",
   "execution_count": 23,
   "id": "89b8d0c7",
   "metadata": {},
   "outputs": [
    {
     "name": "stdout",
     "output_type": "stream",
     "text": [
      "ham\n",
      "spam\n",
      "spam\n"
     ]
    }
   ],
   "source": [
    "spam = 0\n",
    "if spam == 10:\n",
    "    print(\"eggs\")\n",
    "if spam > 5:\n",
    "    print(\"bacon\")\n",
    "else:\n",
    "    print(\"ham\")\n",
    "    print(\"spam\")\n",
    "    print(\"spam\")"
   ]
  },
  {
   "cell_type": "markdown",
   "id": "75d8203c",
   "metadata": {},
   "source": [
    "**8).Write code that prints Hello if 1 is stored in spam, prints Howdy if 2 is stored in spam, and prints Greetings! if anything else is stored in spam.**"
   ]
  },
  {
   "cell_type": "code",
   "execution_count": 5,
   "id": "e5f45f1a",
   "metadata": {},
   "outputs": [
    {
     "name": "stdout",
     "output_type": "stream",
     "text": [
      "Enter any number you can get message : 11\n",
      "Greetings!\n"
     ]
    }
   ],
   "source": [
    "spam = int(input(\"Enter any number you can get message : \"))\n",
    "\n",
    "if spam == 1:\n",
    "    print(\"Hello\")\n",
    "elif spam == 2:\n",
    "    print(\"Howdy\")\n",
    "else:\n",
    "    print(\"Greetings!\")"
   ]
  },
  {
   "cell_type": "markdown",
   "id": "a461b887",
   "metadata": {},
   "source": [
    "**9).If your programme is stuck in an endless loop, what keys you’ll press?**"
   ]
  },
  {
   "cell_type": "markdown",
   "id": "370a1cbd",
   "metadata": {},
   "source": [
    "if the programme runs in infinite loop we can used to press Ctrl + C for come back from this infinite loop"
   ]
  },
  {
   "cell_type": "markdown",
   "id": "ec756e66",
   "metadata": {},
   "source": [
    "**10)How can you tell the difference between break and continue?**"
   ]
  },
  {
   "cell_type": "markdown",
   "id": "75753f40",
   "metadata": {},
   "source": [
    "break:\n",
    "    break is a inbuilt function to break the loop wheather it is For loop or While loop.and continue to excute the programme out side the loop\n",
    "    \n",
    "continue:\n",
    "    continue is a inbuilt function to continue the loop from starting and again"
   ]
  },
  {
   "cell_type": "markdown",
   "id": "e5e2d495",
   "metadata": {},
   "source": [
    "**11).In a for loop, what is the difference between range(10), range(0, 10), and range(0, 10, 1)?**"
   ]
  },
  {
   "cell_type": "code",
   "execution_count": 6,
   "id": "4bee0cc2",
   "metadata": {
    "collapsed": true
   },
   "outputs": [
    {
     "name": "stdout",
     "output_type": "stream",
     "text": [
      "0\n",
      "1\n",
      "2\n",
      "3\n",
      "4\n",
      "5\n",
      "6\n",
      "7\n",
      "8\n",
      "9\n",
      "0\n",
      "1\n",
      "2\n",
      "3\n",
      "4\n",
      "5\n",
      "6\n",
      "7\n",
      "8\n",
      "9\n",
      "0\n",
      "1\n",
      "2\n",
      "3\n",
      "4\n",
      "5\n",
      "6\n",
      "7\n",
      "8\n",
      "9\n"
     ]
    }
   ],
   "source": [
    "for i in range(10):\n",
    "    print(i)\n",
    "for i in range(0,10):\n",
    "    print(i)\n",
    "for i in range(0,10,1):\n",
    "    print(i)"
   ]
  },
  {
   "cell_type": "markdown",
   "id": "ddd881cb",
   "metadata": {},
   "source": [
    "first of all see above programme of given problem.in this question there is No difference between range(0),range(0,10),range(0,10,1) according to excuation (or) operation wise. but only difference is notation wise\n",
    "\n",
    "actually range(start,stop,step) function takes three arguments in this three arguments one is mandtory argument another two is optional and positional arguments.so range(stop) function always takes \"stop\" argument compulsory.otherwise it gives TypeError..\n",
    "\n",
    "range(10) function generates numbers from 0 to 9 with default step value is 1\n",
    "\n",
    "range(0,10) this function also same like range(10) but here we passing two arguments as start,stop only but default step value is 1\n",
    "\n",
    "range(0,10,1) this operation is also same like above two operations but only difference is here we passing the three arguments as start,stop,step"
   ]
  },
  {
   "cell_type": "markdown",
   "id": "53452736",
   "metadata": {},
   "source": [
    "**12).Write a short program that prints the numbers 1 to 10 using a for loop. Then write an equivalent program that prints the numbers 1 to 10 using a while loop.**"
   ]
  },
  {
   "cell_type": "code",
   "execution_count": 8,
   "id": "6e572afb",
   "metadata": {},
   "outputs": [
    {
     "name": "stdout",
     "output_type": "stream",
     "text": [
      "1\n",
      "2\n",
      "3\n",
      "4\n",
      "5\n",
      "6\n",
      "7\n",
      "8\n",
      "9\n",
      "10\n"
     ]
    }
   ],
   "source": [
    "# for loop\n",
    "\n",
    "for i in range(1,11,1):\n",
    "    print(i)"
   ]
  },
  {
   "cell_type": "code",
   "execution_count": 10,
   "id": "7fa7c9f7",
   "metadata": {},
   "outputs": [
    {
     "name": "stdout",
     "output_type": "stream",
     "text": [
      "1\n",
      "2\n",
      "3\n",
      "4\n",
      "5\n",
      "6\n",
      "7\n",
      "8\n",
      "9\n",
      "10\n"
     ]
    }
   ],
   "source": [
    "num = 1\n",
    "while num <= 10:\n",
    "    print(num)\n",
    "    num += 1"
   ]
  },
  {
   "cell_type": "markdown",
   "id": "c648cb3c",
   "metadata": {},
   "source": [
    "**13).If you had a function named bacon() inside a module named spam, how would you call it after importing spam?**"
   ]
  },
  {
   "cell_type": "markdown",
   "id": "0ca37d1a",
   "metadata": {},
   "source": [
    "    import spam as sp\n",
    "    sp.bacon()\n",
    "    (or)\n",
    "    from spam import bacon\n",
    "    bacon()\n",
    "\n"
   ]
  },
  {
   "cell_type": "code",
   "execution_count": null,
   "id": "98286bf1",
   "metadata": {},
   "outputs": [],
   "source": []
  }
 ],
 "metadata": {
  "kernelspec": {
   "display_name": "Python 3",
   "language": "python",
   "name": "python3"
  },
  "language_info": {
   "codemirror_mode": {
    "name": "ipython",
    "version": 3
   },
   "file_extension": ".py",
   "mimetype": "text/x-python",
   "name": "python",
   "nbconvert_exporter": "python",
   "pygments_lexer": "ipython3",
   "version": "3.8.8"
  }
 },
 "nbformat": 4,
 "nbformat_minor": 5
}
